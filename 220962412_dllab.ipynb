{
 "cells": [
  {
   "cell_type": "code",
   "execution_count": 9,
   "id": "ed123afc",
   "metadata": {},
   "outputs": [],
   "source": [
    "import torch"
   ]
  },
  {
   "cell_type": "markdown",
   "id": "17544f83",
   "metadata": {},
   "source": [
    "# Q1"
   ]
  },
  {
   "cell_type": "code",
   "execution_count": 10,
   "id": "987b542c",
   "metadata": {},
   "outputs": [
    {
     "name": "stdout",
     "output_type": "stream",
     "text": [
      "Gradient dz/da:  tensor(64.)\n"
     ]
    }
   ],
   "source": [
    "a = torch.tensor(2.0, requires_grad=True)\n",
    "b = torch.tensor(3.0, requires_grad=True)\n",
    "x = 2 * a + 3 * b\n",
    "y = 5 * a ** 2 + 3 * b ** 3\n",
    "z = 2 * x + 3 * y\n",
    "z.backward()\n",
    "\n",
    "print(\"Gradient dz/da: \", a.grad)\n"
   ]
  },
  {
   "cell_type": "markdown",
   "id": "c05ebee7",
   "metadata": {},
   "source": [
    "# Q2"
   ]
  },
  {
   "cell_type": "code",
   "execution_count": 15,
   "id": "90330f53",
   "metadata": {},
   "outputs": [
    {
     "name": "stdout",
     "output_type": "stream",
     "text": [
      "Gradient da/dw:  tensor(1.)\n"
     ]
    }
   ],
   "source": [
    "w = torch.tensor(2.0, requires_grad=True)\n",
    "b = torch.tensor(3.0, requires_grad=True)\n",
    "x = torch.tensor(1.0, requires_grad=True)\n",
    "v = w*x + b\n",
    "a= torch.relu(v)\n",
    "a.backward()\n",
    "\n",
    "print(\"Gradient da/dw: \", w.grad)\n"
   ]
  },
  {
   "cell_type": "markdown",
   "id": "653bbe5b",
   "metadata": {},
   "source": [
    "# Q3"
   ]
  },
  {
   "cell_type": "code",
   "execution_count": 16,
   "id": "8e7507c1",
   "metadata": {},
   "outputs": [
    {
     "name": "stdout",
     "output_type": "stream",
     "text": [
      "Gradient da/dw:  tensor(0.0066)\n"
     ]
    }
   ],
   "source": [
    "w = torch.tensor(2.0, requires_grad=True)\n",
    "b = torch.tensor(3.0, requires_grad=True)\n",
    "x = torch.tensor(1.0, requires_grad=True)\n",
    "v = w*x + b\n",
    "a= torch.sigmoid(v)\n",
    "a.backward()\n",
    "\n",
    "print(\"Gradient da/dw: \", w.grad)"
   ]
  },
  {
   "cell_type": "markdown",
   "id": "4d511b7a",
   "metadata": {},
   "source": [
    "# Q4"
   ]
  },
  {
   "cell_type": "code",
   "execution_count": 17,
   "id": "99093bc0",
   "metadata": {},
   "outputs": [
    {
     "name": "stdout",
     "output_type": "stream",
     "text": [
      "Gradient df/dx:  tensor(-0.0974)\n"
     ]
    }
   ],
   "source": [
    "x = torch.tensor(1.0, requires_grad=True)\n",
    "f = torch.exp(-x**2 - 2*x - torch.sin(x))\n",
    "f.backward()\n",
    "\n",
    "print(\"Gradient df/dx: \", x.grad)\n"
   ]
  },
  {
   "cell_type": "markdown",
   "id": "2bb83535",
   "metadata": {},
   "source": [
    "# Q5"
   ]
  },
  {
   "cell_type": "code",
   "execution_count": 14,
   "id": "d5feffd8",
   "metadata": {},
   "outputs": [
    {
     "name": "stdout",
     "output_type": "stream",
     "text": [
      "Gradient dy/dx:  tensor(61.)\n",
      "Analytical Gradient dy/dx:  tensor(61., grad_fn=<AddBackward0>)\n"
     ]
    }
   ],
   "source": [
    "import torch\n",
    "\n",
    "x = torch.tensor(1.0, requires_grad=True)\n",
    "y = 8 * x ** 4 + 3 * x ** 3 + 7 * x ** 2 + 6 * x + 3\n",
    "y.backward()\n",
    "\n",
    "print(\"Gradient dy/dx: \", x.grad)\n",
    "\n",
    "analytical_gradient = 32 * x**3 + 9 * x**2 + 14 * x + 6\n",
    "print(\"Analytical Gradient dy/dx: \", analytical_gradient)\n"
   ]
  },
  {
   "cell_type": "markdown",
   "id": "f0264438",
   "metadata": {},
   "source": [
    "# Q6"
   ]
  },
  {
   "cell_type": "code",
   "execution_count": 20,
   "id": "3784ba3e",
   "metadata": {},
   "outputs": [
    {
     "name": "stdout",
     "output_type": "stream",
     "text": [
      "Gradient df/dy:  tensor(0.0314)\n"
     ]
    }
   ],
   "source": [
    "x = torch.tensor(2.0, requires_grad=True)\n",
    "y = torch.tensor(3.0, requires_grad=True)\n",
    "z = torch.tensor(1.0, requires_grad=True)\n",
    "a = 2 * x / torch.sin(y)\n",
    "b = z * a\n",
    "c = 1 + b\n",
    "d = torch.log(c)\n",
    "f = torch.tanh(d)\n",
    "\n",
    "f.backward()\n",
    "\n",
    "print(\"Gradient df/dy: \", y.grad)\n"
   ]
  },
  {
   "cell_type": "code",
   "execution_count": null,
   "id": "0674a38e",
   "metadata": {},
   "outputs": [],
   "source": []
  }
 ],
 "metadata": {
  "kernelspec": {
   "display_name": "Ashwin",
   "language": "python",
   "name": ".venv"
  },
  "language_info": {
   "codemirror_mode": {
    "name": "ipython",
    "version": 3
   },
   "file_extension": ".py",
   "mimetype": "text/x-python",
   "name": "python",
   "nbconvert_exporter": "python",
   "pygments_lexer": "ipython3",
   "version": "3.12.3"
  }
 },
 "nbformat": 4,
 "nbformat_minor": 5
}
